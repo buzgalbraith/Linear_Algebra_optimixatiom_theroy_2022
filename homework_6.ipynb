{
 "cells": [
  {
   "cell_type": "code",
   "execution_count": 6,
   "metadata": {},
   "outputs": [],
   "source": [
    "import numpy as np"
   ]
  },
  {
   "cell_type": "markdown",
   "metadata": {},
   "source": [
    "here i am just deffing the matrix"
   ]
  },
  {
   "cell_type": "code",
   "execution_count": 7,
   "metadata": {},
   "outputs": [
    {
     "data": {
      "text/plain": [
       "array([[0.33333333, 0.25      , 0.        , 0.25      , 0.        ,\n",
       "        0.        , 0.        , 0.        , 0.        ],\n",
       "       [0.33333333, 0.25      , 0.33333333, 0.        , 0.2       ,\n",
       "        0.        , 0.        , 0.        , 0.        ],\n",
       "       [0.        , 0.25      , 0.33333333, 0.        , 0.        ,\n",
       "        0.25      , 0.        , 0.        , 0.        ],\n",
       "       [0.33333333, 0.        , 0.        , 0.25      , 0.2       ,\n",
       "        0.        , 0.33333333, 0.        , 0.        ],\n",
       "       [0.        , 0.25      , 0.        , 0.25      , 0.2       ,\n",
       "        0.25      , 0.        , 0.25      , 0.        ],\n",
       "       [0.        , 0.        , 0.33333333, 0.        , 0.2       ,\n",
       "        0.25      , 0.        , 0.        , 0.33333333],\n",
       "       [0.        , 0.        , 0.        , 0.25      , 0.        ,\n",
       "        0.        , 0.33333333, 0.25      , 0.        ],\n",
       "       [0.        , 0.        , 0.        , 0.        , 0.2       ,\n",
       "        0.        , 0.33333333, 0.25      , 0.33333333],\n",
       "       [0.        , 0.        , 0.        , 0.        , 0.        ,\n",
       "        0.25      , 0.        , 0.25      , 0.33333333]])"
      ]
     },
     "execution_count": 7,
     "metadata": {},
     "output_type": "execute_result"
    }
   ],
   "source": [
    "identity = np.zeros([9,9])\n",
    "identity[0][0]=1/3\n",
    "identity[1][0]=1/3\n",
    "identity[3][0]=1/3\n",
    "identity[0][1]=1/4\n",
    "identity[1][1]=1/4\n",
    "identity[2][1]=1/4\n",
    "identity[4][1]=1/4\n",
    "identity[0][3]=1/4\n",
    "identity[1][2]=1/3\n",
    "identity[2][1]=1/4\n",
    "identity[2][2]=1/3\n",
    "identity[2][5]=1/4\n",
    "identity[1][4]=1/5\n",
    "identity[5][2]=1/3\n",
    "identity[3][3]=1/4\n",
    "identity[4][3]=1/4\n",
    "identity[6][3]=1/4\n",
    "identity[6][3]=1/4\n",
    "identity[3][4]=1/5\n",
    "identity[4][4]=1/5\n",
    "identity[5][4]=1/5\n",
    "identity[7][4]=1/5\n",
    "identity[2][5]=1/4\n",
    "identity[4][5]=1/4\n",
    "identity[5][5]=1/4\n",
    "identity[8][5]=1/4\n",
    "identity[3][6]=1/3\n",
    "identity[6][6]=1/3\n",
    "identity[7][6]=1/3\n",
    "identity[4][7]=1/4\n",
    "identity[6][7]=1/4\n",
    "identity[7][7]=1/4\n",
    "identity[8][7]=1/4\n",
    "identity[5][8]=1/3\n",
    "identity[7][8]=1/3\n",
    "identity[8][8]=1/3\n",
    "identity"
   ]
  },
  {
   "cell_type": "code",
   "execution_count": 8,
   "metadata": {},
   "outputs": [
    {
     "data": {
      "text/plain": [
       "[1.0, 1.0, 1.0, 1.0, 1.0, 1.0, 1.0, 1.0, 1.0]"
      ]
     },
     "execution_count": 8,
     "metadata": {},
     "output_type": "execute_result"
    }
   ],
   "source": [
    "[np.sum(identity[:,i]) for i in range(len(identity))]"
   ]
  },
  {
   "cell_type": "markdown",
   "metadata": {},
   "source": [
    "## question 6.3 (b)\n",
    "- we demsonstate bellow that this condtion holds for k=4"
   ]
  },
  {
   "cell_type": "code",
   "execution_count": 21,
   "metadata": {},
   "outputs": [
    {
     "data": {
      "text/plain": [
       "True"
      ]
     },
     "execution_count": 21,
     "metadata": {},
     "output_type": "execute_result"
    }
   ],
   "source": [
    "(np.linalg.matrix_power(P, 4)>0).all()"
   ]
  },
  {
   "cell_type": "markdown",
   "metadata": {},
   "source": [
    "## question 6.3 (c)\n",
    "- as we showed in class $x^{t+1}=Px^t=P(Px^{t-1})=P^2x^{t-1}=...=P^tx^0$\n",
    "thus we can find $x^{10}=P^{10}x^0$\n",
    "- we do this bellow"
   ]
  },
  {
   "cell_type": "code",
   "execution_count": 23,
   "metadata": {},
   "outputs": [
    {
     "data": {
      "text/plain": [
       "array([0.09895389, 0.12706555, 0.09093731, 0.12706555, 0.15159253,\n",
       "       0.1152551 , 0.09093731, 0.1152551 , 0.08293766])"
      ]
     },
     "execution_count": 23,
     "metadata": {},
     "output_type": "execute_result"
    }
   ],
   "source": [
    "x_0=np.zeros(9)\n",
    "x_0[0]=1\n",
    "np.linalg.matrix_power(P,10)@x_0\n"
   ]
  },
  {
   "cell_type": "markdown",
   "metadata": {},
   "source": [
    "## question 6.3 (d)\n",
    "- we know that $\\mu \\in \\Delta_n$ is an invarient measure of P if $\\mu=P \\mu$ \n",
    "- ie this is euqivent to finding the normlaized eigenvector of p asocoaited with eigenvalue $\\lambda=1$\n",
    "- we find this bellow and check our intial condtion. "
   ]
  },
  {
   "cell_type": "code",
   "execution_count": 30,
   "metadata": {},
   "outputs": [
    {
     "data": {
      "text/plain": [
       "True"
      ]
     },
     "execution_count": 30,
     "metadata": {},
     "output_type": "execute_result"
    }
   ],
   "source": [
    "eigenvevtor=np.linalg.eig(identity)[1][:,1]\n",
    "invarient_measure=eigenvevtor/np.sum(np.linalg.eig(identity)[1][:,1])\n",
    "(np.round(invarient_measure)==np.round(P@invarient_measure)).all()"
   ]
  },
  {
   "cell_type": "markdown",
   "metadata": {},
   "source": [
    "## question 6.3 (e)\n",
    "- we know that $\\mu$ are the long term likelyhood states of P. \n",
    "- menaing that given a many transtions, the likelyhood that an indivdal will end up in each state is given by $\\mu_i$\n",
    "- so we would want to pick the state such that $i=argmax_{i\\in [1,9]}\\mu_i$\n",
    "- we do this bellow (and add one to account for index 0) and find that the squirel is most likely in room 5"
   ]
  },
  {
   "cell_type": "code",
   "execution_count": 33,
   "metadata": {},
   "outputs": [
    {
     "data": {
      "text/plain": [
       "5"
      ]
     },
     "execution_count": 33,
     "metadata": {},
     "output_type": "execute_result"
    }
   ],
   "source": [
    "np.argmax(invarient_measure)+1"
   ]
  },
  {
   "cell_type": "code",
   "execution_count": 13,
   "metadata": {},
   "outputs": [],
   "source": [
    "import scipy.stats as stats\n",
    "stats.norm.pdf()"
   ]
  },
  {
   "cell_type": "markdown",
   "metadata": {},
   "source": [
    "- to show that one matrix $B\\in\\mathbb{R}^{nxn}$ is the inverse of another matrix $A\\in\\mathbb{R}^{nxn}$ have to show that $AB=I$ and $BA=I$ where $I\\in \\mathbb{R}^{nxn}$ is teh indentity matrix  "
   ]
  }
 ],
 "metadata": {
  "kernelspec": {
   "display_name": "Python 3.8.8 ('base')",
   "language": "python",
   "name": "python3"
  },
  "language_info": {
   "codemirror_mode": {
    "name": "ipython",
    "version": 3
   },
   "file_extension": ".py",
   "mimetype": "text/x-python",
   "name": "python",
   "nbconvert_exporter": "python",
   "pygments_lexer": "ipython3",
   "version": "3.8.8"
  },
  "orig_nbformat": 4,
  "vscode": {
   "interpreter": {
    "hash": "9a7a47e06beb32a03ad382b3cb45f6688197811263189ecf77f249956dea5c75"
   }
  }
 },
 "nbformat": 4,
 "nbformat_minor": 2
}
